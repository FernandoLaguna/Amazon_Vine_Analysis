{
  "nbformat": 4,
  "nbformat_minor": 0,
  "metadata": {
    "colab": {
      "name": "Vine_Review_Analysis.ipynb",
      "provenance": []
    },
    "kernelspec": {
      "name": "python3",
      "display_name": "Python 3"
    },
    "language_info": {
      "name": "python"
    }
  },
  "cells": [
    {
      "cell_type": "code",
      "execution_count": 1,
      "metadata": {
        "colab": {
          "base_uri": "https://localhost:8080/"
        },
        "id": "APWnapIQ5GtK",
        "outputId": "996972ac-8979-438f-e16c-4cb2e34d683b"
      },
      "outputs": [
        {
          "output_type": "stream",
          "name": "stdout",
          "text": [
            "\r0% [Working]\r            \rHit:1 https://cloud.r-project.org/bin/linux/ubuntu bionic-cran40/ InRelease\n",
            "\r0% [Connecting to archive.ubuntu.com (91.189.88.142)] [Connecting to security.u\r0% [1 InRelease gpgv 3,626 B] [Connecting to archive.ubuntu.com (91.189.88.142)\r                                                                               \rIgn:2 https://developer.download.nvidia.com/compute/cuda/repos/ubuntu1804/x86_64  InRelease\n",
            "\r0% [1 InRelease gpgv 3,626 B] [Waiting for headers] [Waiting for headers] [Wait\r                                                                               \rHit:3 http://ppa.launchpad.net/c2d4u.team/c2d4u4.0+/ubuntu bionic InRelease\n",
            "\r0% [1 InRelease gpgv 3,626 B] [Waiting for headers] [Waiting for headers] [Conn\r                                                                               \rHit:4 http://security.ubuntu.com/ubuntu bionic-security InRelease\n",
            "Hit:5 http://archive.ubuntu.com/ubuntu bionic InRelease\n",
            "Ign:6 https://developer.download.nvidia.com/compute/machine-learning/repos/ubuntu1804/x86_64  InRelease\n",
            "Hit:7 https://developer.download.nvidia.com/compute/cuda/repos/ubuntu1804/x86_64  Release\n",
            "Hit:8 http://archive.ubuntu.com/ubuntu bionic-updates InRelease\n",
            "Hit:9 https://developer.download.nvidia.com/compute/machine-learning/repos/ubuntu1804/x86_64  Release\n",
            "Hit:10 http://ppa.launchpad.net/cran/libgit2/ubuntu bionic InRelease\n",
            "Hit:11 http://archive.ubuntu.com/ubuntu bionic-backports InRelease\n",
            "Hit:12 http://ppa.launchpad.net/deadsnakes/ppa/ubuntu bionic InRelease\n",
            "Hit:13 http://ppa.launchpad.net/graphics-drivers/ppa/ubuntu bionic InRelease\n",
            "Reading package lists... Done\n"
          ]
        }
      ],
      "source": [
        "import os\n",
        "# Find the latest version of spark 3.0 from http://www.apache.org/dist/spark/ and enter as the spark version\n",
        "# For example:\n",
        "# spark_version = 'spark-3.0.3'\n",
        "spark_version = 'spark-3.0.3'\n",
        "os.environ['SPARK_VERSION']=spark_version\n",
        "\n",
        "# Install Spark and Java\n",
        "!apt-get update\n",
        "!apt-get install openjdk-11-jdk-headless -qq > /dev/null\n",
        "!wget -q http://www.apache.org/dist/spark/$SPARK_VERSION/$SPARK_VERSION-bin-hadoop2.7.tgz\n",
        "!tar xf $SPARK_VERSION-bin-hadoop2.7.tgz\n",
        "!pip install -q findspark\n",
        "\n",
        "# Set Environment Variables\n",
        "import os\n",
        "os.environ[\"JAVA_HOME\"] = \"/usr/lib/jvm/java-11-openjdk-amd64\"\n",
        "os.environ[\"SPARK_HOME\"] = f\"/content/{spark_version}-bin-hadoop2.7\"\n",
        "\n",
        "# Start a SparkSession\n",
        "import findspark\n",
        "findspark.init()"
      ]
    },
    {
      "cell_type": "code",
      "source": [
        "# Download the Postgres driver that will allow Spark to interact with Postgres.\n",
        "!wget https://jdbc.postgresql.org/download/postgresql-42.2.16.jar\n"
      ],
      "metadata": {
        "colab": {
          "base_uri": "https://localhost:8080/"
        },
        "id": "KAZo1XXU5no9",
        "outputId": "cdfc8d71-45d5-4582-b08f-c3bae1df651c"
      },
      "execution_count": 2,
      "outputs": [
        {
          "output_type": "stream",
          "name": "stdout",
          "text": [
            "--2022-01-24 21:02:24--  https://jdbc.postgresql.org/download/postgresql-42.2.16.jar\n",
            "Resolving jdbc.postgresql.org (jdbc.postgresql.org)... 72.32.157.228, 2001:4800:3e1:1::228\n",
            "Connecting to jdbc.postgresql.org (jdbc.postgresql.org)|72.32.157.228|:443... connected.\n",
            "HTTP request sent, awaiting response... 200 OK\n",
            "Length: 1002883 (979K) [application/java-archive]\n",
            "Saving to: ‘postgresql-42.2.16.jar.1’\n",
            "\n",
            "postgresql-42.2.16. 100%[===================>] 979.38K  5.48MB/s    in 0.2s    \n",
            "\n",
            "2022-01-24 21:02:25 (5.48 MB/s) - ‘postgresql-42.2.16.jar.1’ saved [1002883/1002883]\n",
            "\n"
          ]
        }
      ]
    },
    {
      "cell_type": "code",
      "source": [
        "from pyspark.sql import SparkSession\n",
        "spark = SparkSession.builder.appName(\"M16-Amazon-Challenge\").config(\"spark.driver.extraClassPath\",\"/content/postgresql-42.2.16.jar\").getOrCreate()"
      ],
      "metadata": {
        "id": "XVIrWGSH5q00"
      },
      "execution_count": 3,
      "outputs": []
    },
    {
      "cell_type": "code",
      "source": [
        "from pyspark import SparkFiles\n",
        "url = \"https://s3.amazonaws.com/amazon-reviews-pds/tsv/amazon_reviews_us_Watches_v1_00.tsv.gz\"\n",
        "spark.sparkContext.addFile(url)\n",
        "df = spark.read.option(\"encoding\", \"UTF-8\").csv(SparkFiles.get(\"\"), sep=\"\\t\", header=True, inferSchema=True)"
      ],
      "metadata": {
        "id": "LMEVHT4f5vvb"
      },
      "execution_count": 4,
      "outputs": []
    },
    {
      "cell_type": "code",
      "source": [
        "# Create the vine_table. DataFrame\n",
        "vine_df = df.select([\"review_id\", \"star_rating\",\"helpful_votes\",\"total_votes\", \"vine\",\"verified_purchase\"])"
      ],
      "metadata": {
        "id": "GH4ngFP752no"
      },
      "execution_count": 5,
      "outputs": []
    },
    {
      "cell_type": "code",
      "source": [
        "vine_df.show()"
      ],
      "metadata": {
        "colab": {
          "base_uri": "https://localhost:8080/"
        },
        "id": "bx90ctOy547V",
        "outputId": "47daeddb-9d61-4bcc-d92e-808da8025c54"
      },
      "execution_count": 6,
      "outputs": [
        {
          "output_type": "stream",
          "name": "stdout",
          "text": [
            "+--------------+-----------+-------------+-----------+----+-----------------+\n",
            "|     review_id|star_rating|helpful_votes|total_votes|vine|verified_purchase|\n",
            "+--------------+-----------+-------------+-----------+----+-----------------+\n",
            "|R3O9SGZBVQBV76|          5|            0|          0|   N|                Y|\n",
            "| RKH8BNC3L5DLF|          5|            0|          0|   N|                Y|\n",
            "|R2HLE8WKZSU3NL|          2|            1|          1|   N|                Y|\n",
            "|R31U3UH5AZ42LL|          5|            0|          0|   N|                Y|\n",
            "|R2SV659OUJ945Y|          4|            0|          0|   N|                Y|\n",
            "| RA51CP8TR5A2L|          5|            0|          0|   N|                Y|\n",
            "| RB2Q7DLDN6TH6|          5|            1|          1|   N|                Y|\n",
            "|R2RHFJV0UYBK3Y|          1|            1|          5|   N|                N|\n",
            "|R2Z6JOQ94LFHEP|          5|            1|          2|   N|                Y|\n",
            "| RX27XIIWY5JPB|          4|            0|          0|   N|                Y|\n",
            "|R15C7QEZT0LGZN|          4|            2|          2|   N|                Y|\n",
            "|R361XSS37V0NCZ|          1|            0|          0|   N|                N|\n",
            "| ROTNLALUAJAUB|          3|            0|          0|   N|                Y|\n",
            "|R2DYX7QU6BGOHR|          5|            0|          0|   N|                Y|\n",
            "| RWASY7FKI7QOT|          5|            2|          3|   N|                Y|\n",
            "|R2KKYZIN3CCL21|          5|            0|          0|   N|                Y|\n",
            "|R22H4FGVD5O52O|          4|            1|          1|   N|                Y|\n",
            "|R11UACZERCM4ZY|          5|            0|          0|   N|                Y|\n",
            "|R1AT8NQ38UQOL6|          5|            0|          0|   N|                Y|\n",
            "|R2NCZRQGIF1Q75|          4|            0|          0|   N|                Y|\n",
            "+--------------+-----------+-------------+-----------+----+-----------------+\n",
            "only showing top 20 rows\n",
            "\n"
          ]
        }
      ]
    },
    {
      "cell_type": "code",
      "source": [
        "from pyspark.sql.functions import col\n",
        "votes_df= vine_df.filter(vine_df.total_votes >= 20)\n"
      ],
      "metadata": {
        "id": "JV1RFFXn6_3e"
      },
      "execution_count": 7,
      "outputs": []
    },
    {
      "cell_type": "code",
      "source": [
        "votes_df.show()"
      ],
      "metadata": {
        "colab": {
          "base_uri": "https://localhost:8080/"
        },
        "id": "af9PCSe78lws",
        "outputId": "39227b8f-fd11-4a64-c100-617634de0684"
      },
      "execution_count": 8,
      "outputs": [
        {
          "output_type": "stream",
          "name": "stdout",
          "text": [
            "+--------------+-----------+-------------+-----------+----+-----------------+\n",
            "|     review_id|star_rating|helpful_votes|total_votes|vine|verified_purchase|\n",
            "+--------------+-----------+-------------+-----------+----+-----------------+\n",
            "|R14W2VCHHK5V7W|          5|           19|         20|   N|                Y|\n",
            "|R1S3T57O3OYT5S|          5|           19|         20|   N|                Y|\n",
            "|R1BTWIBLYYVOV7|          5|           30|         30|   N|                Y|\n",
            "| R6F9VY91ADPLA|          1|            8|         30|   N|                N|\n",
            "|R3PXNV89DFIXKV|          5|           35|         37|   N|                Y|\n",
            "|R2ZF9NYVT3J7D6|          5|           19|         22|   N|                Y|\n",
            "|R20NYA5V0UF9NE|          5|           27|         28|   N|                Y|\n",
            "|R2X8FZRUOS8R8C|          4|           25|         26|   N|                Y|\n",
            "|R2D8IMBVX3XCLF|          1|           14|         20|   N|                Y|\n",
            "|R25UD9TA63L3Q8|          5|           25|         27|   N|                Y|\n",
            "|R2RB1HML8N712P|          5|           26|         28|   N|                Y|\n",
            "| ROXA8XP5EI2KK|          5|           48|         49|   N|                N|\n",
            "|R149IHTGGSRGX9|          5|           19|         20|   N|                Y|\n",
            "|R1B7M0OP3UNP6O|          5|           49|         52|   Y|                N|\n",
            "|R2N92CUM7WBA1A|          5|           27|         28|   N|                Y|\n",
            "|R2TAFZNG4KHFQB|          4|           24|         24|   N|                Y|\n",
            "| RNRFACS48ZE4A|          5|           21|         21|   N|                Y|\n",
            "|R2PO5QTLXJ9LHG|          5|           33|         46|   N|                N|\n",
            "|R38KDT041DRMIN|          5|           19|         24|   N|                Y|\n",
            "|R2MNPDWCA42I4G|          1|           17|         20|   N|                N|\n",
            "+--------------+-----------+-------------+-----------+----+-----------------+\n",
            "only showing top 20 rows\n",
            "\n"
          ]
        }
      ]
    },
    {
      "cell_type": "code",
      "source": [
        "filtered_votes_df = votes_df.filter((vine_df.helpful_votes/vine_df.total_votes) >= .50)\n",
        "filtered_votes_df.show()"
      ],
      "metadata": {
        "colab": {
          "base_uri": "https://localhost:8080/"
        },
        "id": "-c2hChIA9MvT",
        "outputId": "2abe7099-680e-4d40-f28f-6da8247563fa"
      },
      "execution_count": 9,
      "outputs": [
        {
          "output_type": "stream",
          "name": "stdout",
          "text": [
            "+--------------+-----------+-------------+-----------+----+-----------------+\n",
            "|     review_id|star_rating|helpful_votes|total_votes|vine|verified_purchase|\n",
            "+--------------+-----------+-------------+-----------+----+-----------------+\n",
            "|R14W2VCHHK5V7W|          5|           19|         20|   N|                Y|\n",
            "|R1S3T57O3OYT5S|          5|           19|         20|   N|                Y|\n",
            "|R1BTWIBLYYVOV7|          5|           30|         30|   N|                Y|\n",
            "|R3PXNV89DFIXKV|          5|           35|         37|   N|                Y|\n",
            "|R2ZF9NYVT3J7D6|          5|           19|         22|   N|                Y|\n",
            "|R20NYA5V0UF9NE|          5|           27|         28|   N|                Y|\n",
            "|R2X8FZRUOS8R8C|          4|           25|         26|   N|                Y|\n",
            "|R2D8IMBVX3XCLF|          1|           14|         20|   N|                Y|\n",
            "|R25UD9TA63L3Q8|          5|           25|         27|   N|                Y|\n",
            "|R2RB1HML8N712P|          5|           26|         28|   N|                Y|\n",
            "| ROXA8XP5EI2KK|          5|           48|         49|   N|                N|\n",
            "|R149IHTGGSRGX9|          5|           19|         20|   N|                Y|\n",
            "|R1B7M0OP3UNP6O|          5|           49|         52|   Y|                N|\n",
            "|R2N92CUM7WBA1A|          5|           27|         28|   N|                Y|\n",
            "|R2TAFZNG4KHFQB|          4|           24|         24|   N|                Y|\n",
            "| RNRFACS48ZE4A|          5|           21|         21|   N|                Y|\n",
            "|R2PO5QTLXJ9LHG|          5|           33|         46|   N|                N|\n",
            "|R38KDT041DRMIN|          5|           19|         24|   N|                Y|\n",
            "|R2MNPDWCA42I4G|          1|           17|         20|   N|                N|\n",
            "|R3F3KMKY26K620|          4|           25|         26|   N|                Y|\n",
            "+--------------+-----------+-------------+-----------+----+-----------------+\n",
            "only showing top 20 rows\n",
            "\n"
          ]
        }
      ]
    },
    {
      "cell_type": "code",
      "source": [
        "#Filering paid reviews\n",
        "filtered_paid_reviews = filtered_votes_df.filter(filtered_votes_df.vine == \"Y\")"
      ],
      "metadata": {
        "id": "7wchGU3qBzEI"
      },
      "execution_count": 11,
      "outputs": []
    },
    {
      "cell_type": "code",
      "source": [
        "#Filering unpaid reviews\n",
        "filtered_unpaid_reviews = filtered_votes_df.filter(filtered_votes_df.vine == \"N\")"
      ],
      "metadata": {
        "id": "V0zud9ecCXZT"
      },
      "execution_count": 13,
      "outputs": []
    },
    {
      "cell_type": "code",
      "source": [
        " # Total count of stars\n",
        " from pyspark.sql.functions import sum,avg,max,min,mean,count\n",
        "stars_count_total = filtered_votes_df.groupby(\"star_rating\").agg(count(\"star_rating\")).withColumnRenamed(\"count(star_rating)\", \"star_count\")\n",
        "\n",
        "stars_count_total.show()"
      ],
      "metadata": {
        "colab": {
          "base_uri": "https://localhost:8080/"
        },
        "id": "WH8p-z5fEQKw",
        "outputId": "664d1ec9-09da-4c77-f6f9-b86963ba86a8"
      },
      "execution_count": 19,
      "outputs": [
        {
          "output_type": "stream",
          "name": "stdout",
          "text": [
            "+-----------+----------+\n",
            "|star_rating|star_count|\n",
            "+-----------+----------+\n",
            "|          1|      1400|\n",
            "|          3|       771|\n",
            "|          5|      4347|\n",
            "|          4|      1352|\n",
            "|          2|       539|\n",
            "+-----------+----------+\n",
            "\n"
          ]
        }
      ]
    },
    {
      "cell_type": "code",
      "source": [
        "# Paid analysis\n",
        "\n",
        "stars_count_paid = filtered_paid_reviews.groupby(\"star_rating\").agg(count(\"star_rating\")).withColumnRenamed(\"count(star_rating)\", \"star_count\")\n",
        "stars_count_paid = stars_count_paid.withColumnRenamed(\"star_count\", \"star_count_paid\")\n",
        "stars_count_paid.show()"
      ],
      "metadata": {
        "colab": {
          "base_uri": "https://localhost:8080/"
        },
        "id": "pQvdBvqRCjtx",
        "outputId": "32041bd6-be56-406a-889c-f3af54e073a2"
      },
      "execution_count": 20,
      "outputs": [
        {
          "output_type": "stream",
          "name": "stdout",
          "text": [
            "+-----------+---------------+\n",
            "|star_rating|star_count_paid|\n",
            "+-----------+---------------+\n",
            "|          1|              2|\n",
            "|          3|              7|\n",
            "|          5|             15|\n",
            "|          4|             20|\n",
            "|          2|              3|\n",
            "+-----------+---------------+\n",
            "\n"
          ]
        }
      ]
    },
    {
      "cell_type": "code",
      "source": [
        "# UnPaid analysis\n",
        "stars_count_unpaid = filtered_unpaid_reviews.groupby(\"star_rating\").agg(count(\"star_rating\")).withColumnRenamed(\"count(star_rating)\", \"star_count\")\n",
        "stars_count_unpaid.show()"
      ],
      "metadata": {
        "colab": {
          "base_uri": "https://localhost:8080/"
        },
        "id": "5QItVMvYFAae",
        "outputId": "4fc7c667-e975-4b26-8827-da0f2fb42bf0"
      },
      "execution_count": 21,
      "outputs": [
        {
          "output_type": "stream",
          "name": "stdout",
          "text": [
            "+-----------+----------+\n",
            "|star_rating|star_count|\n",
            "+-----------+----------+\n",
            "|          1|      1398|\n",
            "|          3|       764|\n",
            "|          5|      4332|\n",
            "|          4|      1332|\n",
            "|          2|       536|\n",
            "+-----------+----------+\n",
            "\n"
          ]
        }
      ]
    },
    {
      "cell_type": "code",
      "source": [
        "import pyspark.sql.functions as F  \n",
        "#Join the 2 tables and include total\n",
        "joined_df=stars_count_paid.join(stars_count_unpaid,on=\"star_rating\", how=\"inner\")\n",
        "joined_df_sum = joined_df.withColumn('total', joined_df.star_count + joined_df.star_count_paid)\n",
        "joined_df_percentage = joined_df_sum.withColumn('% of paid', joined_df_sum.star_count_paid / joined_df_sum.agg(F.sum(\"star_count_paid\")).collect()[0][0]*100) \n",
        "joined_df_percentage = joined_df_percentage.withColumn('% of unpaid', joined_df_sum.star_count / joined_df_percentage.agg(F.sum(\"star_count\")).collect()[0][0]*100) \n",
        "joined_df_percentage.show()"
      ],
      "metadata": {
        "colab": {
          "base_uri": "https://localhost:8080/"
        },
        "id": "qL2t24BeMB2c",
        "outputId": "37ab2835-6aa2-48e2-ea33-01fd7b7b90db"
      },
      "execution_count": 37,
      "outputs": [
        {
          "output_type": "stream",
          "name": "stdout",
          "text": [
            "+-----------+---------------+----------+-----+------------------+------------------+\n",
            "|star_rating|star_count_paid|star_count|total|         % of paid|       % of unpaid|\n",
            "+-----------+---------------+----------+-----+------------------+------------------+\n",
            "|          1|              2|      1398| 1400|  4.25531914893617| 16.71848839990433|\n",
            "|          3|              7|       764|  771|14.893617021276595|   9.1365701985171|\n",
            "|          5|             15|      4332| 4347|31.914893617021278| 51.80578808897393|\n",
            "|          4|             20|      1332| 1352|  42.5531914893617|15.929203539823009|\n",
            "|          2|              3|       536|  539| 6.382978723404255| 6.409949772781632|\n",
            "+-----------+---------------+----------+-----+------------------+------------------+\n",
            "\n"
          ]
        }
      ]
    },
    {
      "cell_type": "code",
      "source": [
        "#Calcular el total de reviews\n",
        "Total_reviews = joined_df_percentage.agg(sum(joined_df_percentage.star_count_paid+joined_df_percentage.star_count))\n",
        "Total_reviews.show()"
      ],
      "metadata": {
        "colab": {
          "base_uri": "https://localhost:8080/"
        },
        "id": "h3_bx_KGO-H2",
        "outputId": "54b7f791-4b30-47dc-9998-cccfd28f793e"
      },
      "execution_count": null,
      "outputs": [
        {
          "output_type": "stream",
          "name": "stdout",
          "text": [
            "+-----------------------------------+\n",
            "|sum((star_count_paid + star_count))|\n",
            "+-----------------------------------+\n",
            "|                               8409|\n",
            "+-----------------------------------+\n",
            "\n"
          ]
        }
      ]
    },
    {
      "cell_type": "code",
      "source": [
        ""
      ],
      "metadata": {
        "id": "OUx_VGP23AFA"
      },
      "execution_count": null,
      "outputs": []
    }
  ]
}